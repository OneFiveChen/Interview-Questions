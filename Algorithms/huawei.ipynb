{
 "cells": [
  {
   "cell_type": "markdown",
   "metadata": {},
   "source": [
    "## 旋转矩阵"
   ]
  },
  {
   "cell_type": "markdown",
   "metadata": {},
   "source": [
    "问题描述：\n",
    "\n",
    "输入一个N阶方阵(0<N<10)，输出此方阵顺时针旋转M(0<M<10000)次后的方阵\n",
    "\n",
    "进阶：考虑原地旋转"
   ]
  },
  {
   "cell_type": "code",
   "execution_count": null,
   "metadata": {},
   "outputs": [],
   "source": [
    "input_1 = [[1,2,3],[4,5,6],[7,8,9]]\n",
    "input_2 = [[1,2,3,4],[5,6,7,8],[9,10,11,12],[13,14,15,16]]\n",
    "m = 997"
   ]
  },
  {
   "cell_type": "code",
   "execution_count": null,
   "metadata": {},
   "outputs": [],
   "source": [
    "# rotate is matrix[i][j] swap with matrix[j][len-i-1]\n",
    "def rotateMTimes(origin,m):\n",
    "    # rotate one time (90 degree)\n",
    "    def rotateMatrix(origin):\n",
    "        length = len(origin)\n",
    "        if length <2:\n",
    "            return origin\n",
    "        for i in range(length//2):\n",
    "            for j in range(i,length-1-i):\n",
    "                temp = origin[i][j]\n",
    "                origin[i][j]= origin[length-j-1][i]\n",
    "                origin[length-j-1][i] = origin[length-i-1][length-j-1]\n",
    "                origin[length-i-1][length-j-1] = origin[j][length-i-1]\n",
    "                origin[j][length-i-1] = temp\n",
    "        return origin\n",
    "    \n",
    "    m = m%4\n",
    "    for _ in range(m):\n",
    "        origin = rotateMatrix(origin)\n",
    "    return origin"
   ]
  },
  {
   "cell_type": "code",
   "execution_count": null,
   "metadata": {
    "scrolled": true
   },
   "outputs": [],
   "source": [
    "rotateMTimes(input_2,m)"
   ]
  },
  {
   "cell_type": "markdown",
   "metadata": {},
   "source": [
    "## 组合问题-圣诞节分礼物"
   ]
  },
  {
   "cell_type": "markdown",
   "metadata": {},
   "source": [
    "问题描述：\n",
    "\n",
    "圣诞节到了，城堡里有K个小朋友，圣诞老人有n件无差别的小礼物，请帮圣诞老人处理：将n个无差别的里无分给k个小朋友的分法问题。\n",
    "给定n和k，输出分法总数，并枚举出所有的分法\n",
    "\n",
    ">输入样例：\n",
    "3 2\n",
    "\n",
    ">输出样例：\n",
    "4\n",
    "```\n",
    "***|\n",
    "**|*\n",
    "*|**\n",
    "|***\n",
    "```"
   ]
  },
  {
   "cell_type": "code",
   "execution_count": null,
   "metadata": {},
   "outputs": [],
   "source": [
    "input_3 = [3,2]"
   ]
  },
  {
   "cell_type": "code",
   "execution_count": null,
   "metadata": {},
   "outputs": [],
   "source": [
    "def givePresents(n,k):\n",
    "    # put x same ball in k boxes : C(n+k-1,k-1)\n",
    "    global result\n",
    "    result =0\n",
    "    def dp(n,k,path):\n",
    "        if n == 0:\n",
    "            print(path+\"|\"*k)\n",
    "            return 1\n",
    "        if k ==0:\n",
    "            print(path+\"*\"*n)\n",
    "            return 1\n",
    "        return dp(n-1,k,path+\"*\")+dp(n,k-1,path+\"|\")\n",
    "        \n",
    "    result = dp(n,k,\"\")\n",
    "    return result"
   ]
  },
  {
   "cell_type": "code",
   "execution_count": null,
   "metadata": {},
   "outputs": [],
   "source": [
    "givePresents(input_3[0],input_3[1]-1)"
   ]
  },
  {
   "cell_type": "markdown",
   "metadata": {},
   "source": [
    "## 编辑距离"
   ]
  },
  {
   "cell_type": "markdown",
   "metadata": {},
   "source": [
    "问题描述：\n",
    "\n",
    "A是一个杂志的文字校验员，负责改正文章里面的错字错句，我们要实现一个程序来统计A一天的工作了量，ArithmeticError的操作分为三类：更改一个字、删除一个字或者增加一个字，我们需要通过检验前后的文章计算A最少需要操作多少次。\n",
    "为简化，我们假设文章的每行只包含数字和字母，不包含空格等特殊字符\n",
    "\n",
    "输入描述：\n",
    "第一行输入为正整数N，表示文章的总行数(0<N<10000)\n",
    "后面N行，为校验前的文章\n",
    "再后面N行，为校验后的文章\n",
    "\n",
    "输出描述：\n",
    "输出一个数字，表示计算结果，不含空格换行等\n",
    "\n",
    "实例：\n",
    ">输入：\n",
    "```\n",
    "2\n",
    "abcdef\n",
    "123456\n",
    "bcdg\n",
    "234567\n",
    "```\n",
    "\n",
    ">输出：\n",
    "5"
   ]
  },
  {
   "cell_type": "code",
   "execution_count": 1,
   "metadata": {},
   "outputs": [],
   "source": [
    "input_4 = \"abcdef123456\"\n",
    "input_5 = \"bcdg234567\""
   ]
  },
  {
   "cell_type": "code",
   "execution_count": 2,
   "metadata": {},
   "outputs": [],
   "source": [
    "# 递归版本 Take tooooo much time\n",
    "def Levenshtein_Distance_Recursive(s1,s2):\n",
    "    if len(s1) == 0:\n",
    "        return len(s2)\n",
    "    if len(s2) == 0:\n",
    "        return len(s1)\n",
    "    if s1 == s2:\n",
    "        return 0\n",
    "    \n",
    "    if s1[-1]==s2[-1]:\n",
    "        d = 0\n",
    "    else:\n",
    "        d = 1\n",
    "    return min(Levenshtein_Distance_Recursive(s1,s2[:-1])+1,\n",
    "               Levenshtein_Distance_Recursive(s1[:-1],s2)+1,\n",
    "               Levenshtein_Distance_Recursive(s1[:-1],s2[:-1])+d)\n",
    "\n",
    "# 动规版本\n"
   ]
  },
  {
   "cell_type": "code",
   "execution_count": 3,
   "metadata": {},
   "outputs": [
    {
     "data": {
      "text/plain": [
       "5"
      ]
     },
     "execution_count": 3,
     "metadata": {},
     "output_type": "execute_result"
    }
   ],
   "source": [
    "Levenshtein_Distance_Recursive(input_4,input_5)"
   ]
  },
  {
   "cell_type": "code",
   "execution_count": null,
   "metadata": {},
   "outputs": [],
   "source": []
  }
 ],
 "metadata": {
  "kernelspec": {
   "display_name": "Python 3",
   "language": "python",
   "name": "python3"
  },
  "language_info": {
   "codemirror_mode": {
    "name": "ipython",
    "version": 3
   },
   "file_extension": ".py",
   "mimetype": "text/x-python",
   "name": "python",
   "nbconvert_exporter": "python",
   "pygments_lexer": "ipython3",
   "version": "3.7.1"
  }
 },
 "nbformat": 4,
 "nbformat_minor": 2
}
