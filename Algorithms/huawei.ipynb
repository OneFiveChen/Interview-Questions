{
 "cells": [
  {
   "cell_type": "markdown",
   "metadata": {},
   "source": [
    "## 旋转矩阵"
   ]
  },
  {
   "cell_type": "markdown",
   "metadata": {},
   "source": [
    "问题描述：\n",
    "\n",
    "输入一个N阶方阵(0<N<10)，输出此方阵顺时针旋转M(0<M<10000)次后的方阵"
   ]
  },
  {
   "cell_type": "markdown",
   "metadata": {},
   "source": [
    "## 组合问题-圣诞节分礼物"
   ]
  },
  {
   "cell_type": "markdown",
   "metadata": {},
   "source": [
    "问题描述：\n",
    "\n",
    "圣诞节到了，城堡里有K个小朋友，圣诞老人有n件无差别的小礼物，请帮圣诞老人处理：将n个无差别的里无分给k个小朋友的分法问题。\n",
    "给定n和k，输出分法总数，并枚举出所有的分法\n",
    "\n",
    ">输入样例：\n",
    "3 2\n",
    "\n",
    ">输出样例：\n",
    "4\n",
    "```\n",
    "***|\n",
    "**|*\n",
    "*|**\n",
    "|***\n",
    "```"
   ]
  },
  {
   "cell_type": "markdown",
   "metadata": {},
   "source": [
    "## 编辑距离"
   ]
  },
  {
   "cell_type": "markdown",
   "metadata": {},
   "source": [
    "问题描述：\n",
    "\n",
    "A是一个杂志的文字校验员，负责改正文章里面的错字错句，我们要实现一个程序来统计A一天的工作了量，ArithmeticError的操作分为三类：更改一个字、删除一个字或者增加一个字，我们需要通过检验前后的文章计算A最少需要操作多少次。\n",
    "为简化，我们假设文章的每行只包含数字和字母，不包含空格等特殊字符\n",
    "\n",
    "输入描述：\n",
    "第一行输入为正整数N，表示文章的总行数(0<N<10000)\n",
    "后面N行，为校验前的文章\n",
    "再后面N行，为校验后的文章\n",
    "\n",
    "输出描述：\n",
    "输出一个数字，表示计算结果，不含空格换行等\n",
    "\n",
    "实例：\n",
    ">输入：\n",
    "```\n",
    "2\n",
    "abcdef\n",
    "123456\n",
    "bcdg\n",
    "234567\n",
    "```\n",
    "\n",
    ">输出：\n",
    "5"
   ]
  },
  {
   "cell_type": "code",
   "execution_count": null,
   "metadata": {},
   "outputs": [],
   "source": []
  }
 ],
 "metadata": {
  "kernelspec": {
   "display_name": "Python 3",
   "language": "python",
   "name": "python3"
  },
  "language_info": {
   "codemirror_mode": {
    "name": "ipython",
    "version": 3
   },
   "file_extension": ".py",
   "mimetype": "text/x-python",
   "name": "python",
   "nbconvert_exporter": "python",
   "pygments_lexer": "ipython3",
   "version": "3.7.1"
  }
 },
 "nbformat": 4,
 "nbformat_minor": 2
}
