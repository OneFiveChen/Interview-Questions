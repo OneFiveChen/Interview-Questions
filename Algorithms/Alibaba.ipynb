{
 "cells": [
  {
   "cell_type": "markdown",
   "metadata": {},
   "source": [
    "# 阿里巴巴"
   ]
  },
  {
   "cell_type": "markdown",
   "metadata": {},
   "source": [
    "## 问答题2"
   ]
  },
  {
   "cell_type": "markdown",
   "metadata": {},
   "source": [
    "问题描述：班上同学聚餐吃火锅，一锅煮了的M(1<=M<=50)个鱼丸和N(1<=N<=50)个肉丸，现欲将M个鱼丸和N个肉丸分到K(1<=K<=50)个碗中，允许有空碗，鱼丸和肉丸不允许混在同一个碗里，问共有多少种妆发？假设碗足够大，能装50个鱼丸或者50个肉丸，碗之间也没有区别，因此当M=N=1，K=3时，只有一种装法，因为(1,1,0)(1,0,1)(0,1,1)被看作是同一种装法"
   ]
  },
  {
   "cell_type": "markdown",
   "metadata": {},
   "source": [
    "输入：\n",
    ">输入数据包含三行，每行一个整数，分别是M、N、K(1<=M,N,K<=50)"
   ]
  },
  {
   "cell_type": "markdown",
   "metadata": {},
   "source": [
    "输出：\n",
    ">一个整数，单独一行，输出共有多少种装法，要求输出结果对10000取模。例如，计算出共有123456种装法，则输出3456"
   ]
  },
  {
   "cell_type": "code",
   "execution_count": null,
   "metadata": {},
   "outputs": [],
   "source": []
  },
  {
   "cell_type": "markdown",
   "metadata": {},
   "source": [
    "## 问答题1"
   ]
  },
  {
   "cell_type": "markdown",
   "metadata": {},
   "source": [
    "问题描述：\n",
    "小明，小华两个同学参加竞赛获奖，奖金1万元，两人的分配奖金方式独特，由两人共同编写的一个程序来决定奖金的归属。这个程序首先会随机产生若干0-1之间的实数{p_1,p_2,...,p_n}然后从小明开始，第一轮以p_1的概率将全部奖金分配给小明，第二轮以p_2的概率将奖金全部费赔给小华，这样交替地小明、小华以p_i的概率获得全部奖金，一旦奖金被分配，则程序终止。如果n轮之后，奖金仍旧未发出，则从p_1开始继续重复（如果n是奇数，那么p_1分给小华）直到100轮，如果奖金仍未被分配，则程序终止，两人约定通过支付宝将奖金捐出去"
   ]
  },
  {
   "cell_type": "markdown",
   "metadata": {},
   "source": [
    "输入：\n",
    ">输入数据包含N+1行，第一行是n，后面n行是p_1到p_n\n",
    "\n",
    "输出：\n",
    ">捐出奖金的概率"
   ]
  },
  {
   "cell_type": "code",
   "execution_count": null,
   "metadata": {},
   "outputs": [],
   "source": []
  }
 ],
 "metadata": {
  "kernelspec": {
   "display_name": "Python 3",
   "language": "python",
   "name": "python3"
  },
  "language_info": {
   "codemirror_mode": {
    "name": "ipython",
    "version": 3
   },
   "file_extension": ".py",
   "mimetype": "text/x-python",
   "name": "python",
   "nbconvert_exporter": "python",
   "pygments_lexer": "ipython3",
   "version": "3.7.1"
  }
 },
 "nbformat": 4,
 "nbformat_minor": 2
}
